{
 "cells": [
  {
   "cell_type": "code",
   "execution_count": 63,
   "id": "d68b81f0",
   "metadata": {},
   "outputs": [],
   "source": [
    "import torch\n",
    "import torch.nn as nn\n",
    "import torchvision\n",
    "import torchvision.transforms as transforms\n",
    "import matplotlib.pyplot as plt\n",
    "from torch.utils.data import random_split, TensorDataset, DataLoader"
   ]
  },
  {
   "cell_type": "code",
   "execution_count": 64,
   "id": "be8c462a",
   "metadata": {},
   "outputs": [],
   "source": [
    "seed = 123\n",
    "dtype = torch.float32\n",
    "device = 'cuda' if torch.cuda.is_available() else 'cpu' \n",
    "torch.set_default_device(device)\n",
    "torch.manual_seed(seed)\n",
    "generator = torch.Generator(device=device).manual_seed(seed)"
   ]
  },
  {
   "cell_type": "code",
   "execution_count": 65,
   "id": "749bfe6c",
   "metadata": {},
   "outputs": [],
   "source": [
    "dataset = torchvision.datasets.MNIST(root = './cnn_dataset',\n",
    "                                               train = True,\n",
    "                                               transform = transforms.ToTensor(),\n",
    "                                               download = True)\n",
    "test_dataset = torchvision.datasets.MNIST(root = './cnn_dataset',\n",
    "                                               train = False,\n",
    "                                               transform = transforms.ToTensor(),\n",
    "                                               download = True)\n",
    "\n",
    "total_size = len(dataset)\n",
    "train_size = int(total_size * 0.8)\n",
    "val_size = int(total_size * 0.2)\n",
    "\n",
    "train_dataset, val_dataset = random_split(dataset, [train_size, val_size], generator=generator)\n",
    "\n",
    "train_loader = DataLoader(train_dataset, batch_size=32, shuffle=True, generator=generator)\n",
    "val_loader = DataLoader(val_dataset, batch_size=32, shuffle=True, generator=generator)\n",
    "test_loader = DataLoader(test_dataset, batch_size=32, shuffle=True, generator=generator)"
   ]
  },
  {
   "cell_type": "code",
   "execution_count": 66,
   "id": "ebcabedd",
   "metadata": {},
   "outputs": [],
   "source": [
    "class LeNet(nn.Module):\n",
    "\n",
    "    def __init__(self, num_classes):\n",
    "        super(LeNet, self).__init__()\n",
    "        self.layers = nn.Sequential(\n",
    "            nn.LazyConv2d(6, kernel_size=5, padding=2),\n",
    "            nn.Sigmoid(),\n",
    "            nn.AvgPool2d(kernel_size=2, stride=2),\n",
    "            nn.LazyConv2d(16, kernel_size=5),\n",
    "            nn.Sigmoid(),\n",
    "            nn.AvgPool2d(kernel_size=2, stride=2),\n",
    "            nn.Flatten(),\n",
    "            nn.LazyLinear(120),\n",
    "            nn.Sigmoid(),\n",
    "            nn.LazyLinear(84),\n",
    "            nn.Sigmoid(),\n",
    "            nn.LazyLinear(num_classes)\n",
    "        )\n",
    "\n",
    "    def forward(self, x):\n",
    "        return self.layers(x)"
   ]
  },
  {
   "cell_type": "code",
   "execution_count": 67,
   "id": "3ddeae2f",
   "metadata": {},
   "outputs": [],
   "source": [
    "epoch = 20\n",
    "print_per_epoch = 2\n",
    "\n",
    "def accuracy(model, test_loader):\n",
    "    correct = 0\n",
    "    total = 0\n",
    "    with torch.no_grad():\n",
    "        for _, data in enumerate(test_loader):\n",
    "            inputs, labels = data\n",
    "            inputs, labels = inputs.to(device), labels.to(device) \n",
    "            outputs = model(inputs)\n",
    "            _, predicted = torch.max(outputs.data, 1)  \n",
    "            correct += (predicted == labels).sum().item()\n",
    "            total += labels.size(0)\n",
    "    return correct / total\n",
    "\n",
    "def eval(model, loss_fn, val_loader):\n",
    "    running_loss = 0\n",
    "    model.eval()\n",
    "\n",
    "    with torch.no_grad():\n",
    "        for _, data in enumerate(val_loader):\n",
    "            inputs, labels = data\n",
    "            inputs, labels = inputs.to(device), labels.to(device) \n",
    "\n",
    "            y_pred = model(inputs)\n",
    "\n",
    "            loss = loss_fn(y_pred, labels)\n",
    "            running_loss += loss.item()\n",
    "    return running_loss / len(val_loader)\n",
    "\n",
    "\n",
    "def train(model, loss_fn, optimizer, train_loader, val_loader):\n",
    "    model.train()\n",
    "\n",
    "    for i in range(epoch):\n",
    "        running_loss = 0\n",
    "        for _, data in enumerate(train_loader):\n",
    "            inputs, labels = data\n",
    "            inputs, labels = inputs.to(device), labels.to(device) \n",
    "\n",
    "            optimizer.zero_grad()\n",
    "\n",
    "            y_pred = model(inputs)\n",
    "            loss = loss_fn(y_pred, labels)\n",
    "            running_loss += loss.item()\n",
    "\n",
    "            loss.backward()\n",
    "\n",
    "            optimizer.step()\n",
    "        train_loss_avg = running_loss / len(train_loader)\n",
    "        val_loss_avg = eval(model, loss_fn, val_loader)\n",
    "        \n",
    "        if (i+1)%print_per_epoch == 0:\n",
    "            print('LOSS train {} valid {}'.format(train_loss_avg, val_loss_avg))"
   ]
  },
  {
   "cell_type": "code",
   "execution_count": 68,
   "id": "efd667a4",
   "metadata": {},
   "outputs": [
    {
     "name": "stdout",
     "output_type": "stream",
     "text": [
      "LOSS train 0.24041613482435545 valid 0.20753994064529738\n",
      "LOSS train 0.11815076679239671 valid 0.11709857572366794\n",
      "LOSS train 0.08561528619968643 valid 0.08392030773932735\n",
      "LOSS train 0.07073091052131106 valid 0.07797321507707239\n",
      "LOSS train 0.06242269573515902 valid 0.07903533106918137\n",
      "LOSS train 0.058495379920428 valid 0.07341462381867071\n",
      "LOSS train 0.05421706466570807 valid 0.06324978337685268\n",
      "LOSS train 0.052317071638302876 valid 0.06130129466826717\n",
      "LOSS train 0.05118797958549112 valid 0.054921136902024346\n",
      "LOSS train 0.04766035318467766 valid 0.07479340862234433\n",
      "ACC 0.981\n"
     ]
    }
   ],
   "source": [
    "output_size = 10\n",
    "learning_rate = 1e-3\n",
    "\n",
    "model = LeNet(output_size)\n",
    "\n",
    "criterion = torch.nn.CrossEntropyLoss()\n",
    "optimizer = torch.optim.Adam(model.parameters(), lr=1e-3, weight_decay=1e-4)\n",
    "\n",
    "train(model, criterion, optimizer, train_loader, val_loader)\n",
    "acc = accuracy(model, test_loader)\n",
    "\n",
    "print('ACC {}'.format(acc))"
   ]
  }
 ],
 "metadata": {
  "kernelspec": {
   "display_name": "Python 3",
   "language": "python",
   "name": "python3"
  },
  "language_info": {
   "codemirror_mode": {
    "name": "ipython",
    "version": 3
   },
   "file_extension": ".py",
   "mimetype": "text/x-python",
   "name": "python",
   "nbconvert_exporter": "python",
   "pygments_lexer": "ipython3",
   "version": "3.10.12"
  }
 },
 "nbformat": 4,
 "nbformat_minor": 5
}
