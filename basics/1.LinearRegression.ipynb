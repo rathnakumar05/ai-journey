{
 "cells": [
  {
   "cell_type": "code",
   "execution_count": 109,
   "id": "933696cf",
   "metadata": {},
   "outputs": [],
   "source": [
    "import torch\n",
    "import torch.nn as nn\n",
    "import matplotlib.pyplot as plt\n",
    "from torch.utils.data import random_split, TensorDataset, DataLoader"
   ]
  },
  {
   "cell_type": "code",
   "execution_count": 110,
   "id": "19363e53",
   "metadata": {},
   "outputs": [],
   "source": [
    "seed = 123\n",
    "dtype = torch.float32\n",
    "device = 'cuda' if torch.cuda.is_available() else 'cpu' \n",
    "torch.set_default_device(device)\n",
    "torch.manual_seed(seed)\n",
    "generator = torch.Generator(device=device).manual_seed(seed)"
   ]
  },
  {
   "cell_type": "code",
   "execution_count": 111,
   "id": "b1c106f4",
   "metadata": {},
   "outputs": [],
   "source": [
    "def lin_fn(X):\n",
    "    return 3 * X + 2\n",
    "\n",
    "def generate_linear_data(size):\n",
    "    X = torch.arange(0, size, dtype=dtype, device=device).unsqueeze(1)\n",
    "    y = lin_fn(X)\n",
    "\n",
    "    X_mean = X.mean()\n",
    "    X_std = X.std()\n",
    "    X = (X - X_mean) / X_std\n",
    "\n",
    "    y_mean = y.mean()\n",
    "    y_std = y.std()\n",
    "    y = (y - y_mean) / y_std\n",
    "\n",
    "    return X, y, X_mean, y_mean, X_std, y_std\n",
    "\n",
    "total_size = 1000\n",
    "X_dataset, y_dataset, X_mean, y_mean, X_std, y_std = generate_linear_data(total_size)\n",
    "dataset = TensorDataset(X_dataset, y_dataset)\n",
    "\n",
    "train_size = int(total_size * 0.6)\n",
    "val_size = int(total_size * 0.2)\n",
    "test_size = int(total_size * 0.2)\n",
    "\n",
    "train_dataset, val_dataset, test_dataset = random_split(dataset, [train_size, val_size, test_size], generator=generator)\n",
    "\n",
    "train_loader = DataLoader(train_dataset, batch_size=32, shuffle=True, generator=generator)\n",
    "val_loader = DataLoader(val_dataset, batch_size=32, shuffle=True, generator=generator)\n",
    "test_loader = DataLoader(test_dataset, batch_size=32, shuffle=True, generator=generator)\n"
   ]
  },
  {
   "cell_type": "code",
   "execution_count": 112,
   "id": "cdc69716",
   "metadata": {},
   "outputs": [
    {
     "data": {
      "image/png": "[encoded data removed]",
      "text/plain": [
       "<Figure size 600x600 with 1 Axes>"
      ]
     },
     "metadata": {},
     "output_type": "display_data"
    }
   ],
   "source": [
    "def plot_linear_data(X, y):\n",
    "    plt.figure(figsize=(6,6))\n",
    "    plt.plot(X.cpu(), y.cpu(), label = 'line')\n",
    "    plt.xlabel(\"X\")\n",
    "    plt.ylabel(\"y\")\n",
    "    plt.grid(True)\n",
    "    plt.show()\n",
    "\n",
    "plot_linear_data(X_dataset, y_dataset)"
   ]
  },
  {
   "cell_type": "code",
   "execution_count": 113,
   "id": "668cb378",
   "metadata": {},
   "outputs": [],
   "source": [
    "class LinearRegression(nn.Module):\n",
    "\n",
    "    def __init__(self, input_size, output_size):\n",
    "        super().__init__()\n",
    "        self.linear_layer = nn.Linear(input_size, output_size)\n",
    "\n",
    "    def forward(self, x):\n",
    "        return self.linear_layer(x)"
   ]
  },
  {
   "cell_type": "code",
   "execution_count": 114,
   "id": "a294f0fa",
   "metadata": {},
   "outputs": [],
   "source": [
    "epoch = 5\n",
    "print_per_epoch = 1\n",
    "\n",
    "def predict(model, x_raw, x_mean, x_std, y_mean, y_std):\n",
    "    x_norm = (x_raw - x_mean) / x_std\n",
    "    y_norm = model(x_norm)\n",
    "    return y_norm * y_std + y_mean\n",
    "\n",
    "def accuracy(model, test_loader):\n",
    "    correct = 0\n",
    "    total = 0\n",
    "    with torch.no_grad():\n",
    "        for _, data in enumerate(test_loader):\n",
    "            inputs, labels = data\n",
    "            outputs = model(inputs)\n",
    "            _, predicted = torch.max(outputs.data, 1)  \n",
    "            correct += (predicted == labels).sum().item() \n",
    "            total += labels.size(0)\n",
    "    return correct / total\n",
    "\n",
    "def eval(model, loss_fn, val_loader):\n",
    "    running_loss = 0\n",
    "    model.eval()\n",
    "\n",
    "    with torch.no_grad():\n",
    "        for _, data in enumerate(val_loader):\n",
    "            inputs, labels = data\n",
    "\n",
    "            y_pred = model(inputs)\n",
    "\n",
    "            loss = loss_fn(y_pred, labels)\n",
    "            running_loss += loss.item()\n",
    "    return running_loss / len(val_loader)\n",
    "\n",
    "def train(model, loss_fn, optimizer, train_loader, val_loader):\n",
    "    model.train()\n",
    "\n",
    "    for i in range(epoch):\n",
    "        running_loss = 0\n",
    "        for _, batch in enumerate(train_dataset):\n",
    "            X, y = batch\n",
    "            \n",
    "            optimizer.zero_grad()\n",
    "\n",
    "            y_pred = model(X)\n",
    "            loss = loss_fn(y_pred, y)\n",
    "            running_loss += loss.item()\n",
    "\n",
    "            loss.backward()\n",
    "\n",
    "            optimizer.step()\n",
    "        train_loss_avg = running_loss / len(train_loader)\n",
    "        val_loss_avg = eval(model, loss_fn, val_loader)\n",
    "\n",
    "        if (i+1)%print_per_epoch == 0:\n",
    "            print('LOSS train {:.8f} valid {:.8f}'.format(train_loss_avg, val_loss_avg))\n"
   ]
  },
  {
   "cell_type": "code",
   "execution_count": 115,
   "id": "c835d1f6",
   "metadata": {},
   "outputs": [
    {
     "name": "stdout",
     "output_type": "stream",
     "text": [
      "LOSS train 4.81814138 valid 0.00000000\n",
      "LOSS train 0.00000000 valid 0.00000000\n",
      "LOSS train 0.00000000 valid 0.00000000\n",
      "LOSS train 0.00000000 valid 0.00000000\n",
      "LOSS train 0.00000000 valid 0.00000000\n",
      "Predicted:  13333.994140625\n",
      "Actual:  13334.0\n"
     ]
    }
   ],
   "source": [
    "input_size = 1\n",
    "output_size = 1\n",
    "learning_rate = 1e-2\n",
    "\n",
    "model = LinearRegression(input_size, output_size)\n",
    "loss_fn = nn.MSELoss()\n",
    "optimizer = torch.optim.SGD(model.parameters(), lr=learning_rate)\n",
    "\n",
    "train(model, loss_fn, optimizer, train_loader, val_loader)\n",
    "# acc = accuracy(model, test_loader)\n",
    "\n",
    "# print('ACC {}'.format(acc))\n",
    "\n",
    "model.eval()\n",
    "input = 4444.0 #never seen input\n",
    "y_pred = predict(model, torch.tensor([[input]], device=device), X_mean, X_std, y_mean, y_std)\n",
    "print(\"Predicted: \", y_pred.item())\n",
    "print(\"Actual: \", lin_fn(input))\n"
   ]
  }
 ],
 "metadata": {
  "kernelspec": {
   "display_name": "Python 3",
   "language": "python",
   "name": "python3"
  },
  "language_info": {
   "codemirror_mode": {
    "name": "ipython",
    "version": 3
   },
   "file_extension": ".py",
   "mimetype": "text/x-python",
   "name": "python",
   "nbconvert_exporter": "python",
   "pygments_lexer": "ipython3",
   "version": "3.10.12"
  }
 },
 "nbformat": 4,
 "nbformat_minor": 5
}
